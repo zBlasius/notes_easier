{
  "cells": [
    {
      "cell_type": "code",
      "execution_count": 2,
      "metadata": {
        "colab": {
          "base_uri": "https://localhost:8080/"
        },
        "id": "B454-Wik_keE",
        "outputId": "31274c68-7a7a-47b6-c62e-52ddea015b8d"
      },
      "outputs": [
        {
          "name": "stdout",
          "output_type": "stream",
          "text": [
            "Drive already mounted at /content/drive; to attempt to forcibly remount, call drive.mount(\"/content/drive\", force_remount=True).\n"
          ]
        }
      ],
      "source": [
        "from google.colab import drive\n",
        "drive.mount('/content/drive')"
      ]
    },
    {
      "cell_type": "markdown",
      "metadata": {
        "id": "oDpkYgflwTPQ"
      },
      "source": [
        "Etapa 01 - Descomprimindo imagens\n"
      ]
    },
    {
      "cell_type": "code",
      "execution_count": 3,
      "metadata": {
        "id": "8apz-lSOdD3r"
      },
      "outputs": [],
      "source": [
        "# !unzip './drive/MyDrive/Machine Learning/n3/archive.zip' -d './drive/MyDrive/Machine Learning/n3/dataset'"
      ]
    },
    {
      "cell_type": "markdown",
      "metadata": {
        "id": "Qn6KmrTwwQwP"
      },
      "source": [
        "Etapa 02 - Preparação das imagens"
      ]
    },
    {
      "cell_type": "code",
      "execution_count": 4,
      "metadata": {
        "colab": {
          "base_uri": "https://localhost:8080/"
        },
        "id": "VR8lwitHwJWB",
        "outputId": "6de8cfed-3535-4bd3-a251-958fcf37ca7d"
      },
      "outputs": [
        {
          "name": "stdout",
          "output_type": "stream",
          "text": [
            "Found 28709 images belonging to 7 classes.\n",
            "Found 7178 images belonging to 7 classes.\n"
          ]
        }
      ],
      "source": [
        "from keras.preprocessing.image import ImageDataGenerator\n",
        "from keras.models import Sequential\n",
        "from keras.layers import Dense,Dropout,Flatten\n",
        "from keras.layers import Conv2D,MaxPooling2D\n",
        "import os\n",
        "from matplotlib import pyplot as plt\n",
        "import numpy as np\n",
        "\n",
        "train_data_dir=\"./drive/MyDrive/Machine Learning/n3/dataset/train\"\n",
        "validation_data_dir=\"./drive/MyDrive/Machine Learning/n3/dataset/test\"\n",
        "IMG_HEIGHT = 48\n",
        "IMG_WIDTH = 48\n",
        "batch_size = 32\n",
        "\n",
        "train_datagen = ImageDataGenerator(\n",
        "\t\t\t\t\trescale=1./255,\n",
        "\t\t\t\t\trotation_range=30,\n",
        "\t\t\t\t\tshear_range=0.3,\n",
        "\t\t\t\t\tzoom_range=0.3,\n",
        "\t\t\t\t\thorizontal_flip=True,\n",
        "\t\t\t\t\tfill_mode='nearest')\n",
        "\n",
        "validation_datagen = ImageDataGenerator(rescale=1./255)\n",
        "\n",
        "train_generator = train_datagen.flow_from_directory(\n",
        "\t\t\t\t\ttrain_data_dir,\n",
        "\t\t\t\t\tcolor_mode='grayscale',\n",
        "\t\t\t\t\ttarget_size=(IMG_HEIGHT, IMG_WIDTH),\n",
        "\t\t\t\t\tbatch_size=batch_size,\n",
        "\t\t\t\t\tclass_mode='categorical',\n",
        "\t\t\t\t\tshuffle=True)\n",
        "\n",
        "validation_generator = validation_datagen.flow_from_directory(\n",
        "\t\t\t\t\t\t\tvalidation_data_dir,\n",
        "\t\t\t\t\t\t\tcolor_mode='grayscale',\n",
        "\t\t\t\t\t\t\ttarget_size=(IMG_HEIGHT, IMG_WIDTH),\n",
        "\t\t\t\t\t\t\tbatch_size=batch_size,\n",
        "\t\t\t\t\t\t\tclass_mode='categorical',\n",
        "\t\t\t\t\t\t\tshuffle=True)"
      ]
    },
    {
      "cell_type": "markdown",
      "metadata": {
        "id": "HPxhMBjhyicH"
      },
      "source": [
        "Etapa 03 - Visualizando algumas imagens e suas respectivas labels"
      ]
    },
    {
      "cell_type": "code",
      "execution_count": 5,
      "metadata": {
        "colab": {
          "base_uri": "https://localhost:8080/",
          "height": 452
        },
        "id": "CpFdqvlIygXK",
        "outputId": "704696d2-635d-4505-e615-9d133a65cda8"
      },
      "outputs": [
        {
          "data": {
            "image/png": "[encoded data removed]",
            "text/plain": [
              "<Figure size 640x480 with 1 Axes>"
            ]
          },
          "metadata": {},
          "output_type": "display_data"
        }
      ],
      "source": [
        "class_labels=['Angry','Disgust', 'Fear', 'Happy','Neutral','Sad','Surprise']\n",
        "\n",
        "img, label = train_generator.__next__()\n",
        "\n",
        "import random\n",
        "\n",
        "i=random.randint(0, (img.shape[0])-1)\n",
        "image = img[i]\n",
        "labl = class_labels[label[i].argmax()]\n",
        "plt.imshow(image[:,:,0], cmap='gray')\n",
        "plt.title(labl)\n",
        "plt.show()"
      ]
    },
    {
      "cell_type": "markdown",
      "metadata": {
        "id": "s8oUPaKQy13Q"
      },
      "source": [
        "Etapa 04 - Treinando o modelo usando deep learning"
      ]
    },
    {
      "cell_type": "code",
      "execution_count": null,
      "metadata": {
        "colab": {
          "base_uri": "https://localhost:8080/"
        },
        "id": "HQLhryzV_VnD",
        "outputId": "d3f97853-d272-4a70-a8d0-c9973a84ba52"
      },
      "outputs": [
        {
          "name": "stdout",
          "output_type": "stream",
          "text": [
            "Model: \"sequential\"\n",
            "_________________________________________________________________\n",
            " Layer (type)                Output Shape              Param #   \n",
            "=================================================================\n",
            " conv2d (Conv2D)             (None, 46, 46, 32)        320       \n",
            "                                                                 \n",
            " conv2d_1 (Conv2D)           (None, 44, 44, 64)        18496     \n",
            "                                                                 \n",
            " max_pooling2d (MaxPooling2D  (None, 22, 22, 64)       0         \n",
            " )                                                               \n",
            "                                                                 \n",
            " dropout (Dropout)           (None, 22, 22, 64)        0         \n",
            "                                                                 \n",
            " conv2d_2 (Conv2D)           (None, 20, 20, 128)       73856     \n",
            "                                                                 \n",
            " max_pooling2d_1 (MaxPooling  (None, 10, 10, 128)      0         \n",
            " 2D)                                                             \n",
            "                                                                 \n",
            " dropout_1 (Dropout)         (None, 10, 10, 128)       0         \n",
            "                                                                 \n",
            " conv2d_3 (Conv2D)           (None, 8, 8, 256)         295168    \n",
            "                                                                 \n",
            " max_pooling2d_2 (MaxPooling  (None, 4, 4, 256)        0         \n",
            " 2D)                                                             \n",
            "                                                                 \n",
            " dropout_2 (Dropout)         (None, 4, 4, 256)         0         \n",
            "                                                                 \n",
            " flatten (Flatten)           (None, 4096)              0         \n",
            "                                                                 \n",
            " dense (Dense)               (None, 512)               2097664   \n",
            "                                                                 \n",
            " dropout_3 (Dropout)         (None, 512)               0         \n",
            "                                                                 \n",
            " dense_1 (Dense)             (None, 7)                 3591      \n",
            "                                                                 \n",
            "=================================================================\n",
            "Total params: 2,489,095\n",
            "Trainable params: 2,489,095\n",
            "Non-trainable params: 0\n",
            "_________________________________________________________________\n",
            "None\n",
            "Epoch 1/50\n",
            "897/897 [==============================] - 9840s 11s/step - loss: 1.7728 - accuracy: 0.2666 - val_loss: 1.7131 - val_accuracy: 0.3036\n",
            "Epoch 2/50\n",
            "897/897 [==============================] - 74s 82ms/step - loss: 1.6743 - accuracy: 0.3291 - val_loss: 1.5269 - val_accuracy: 0.4075\n",
            "Epoch 3/50\n",
            "897/897 [==============================] - 72s 80ms/step - loss: 1.5575 - accuracy: 0.3895 - val_loss: 1.3745 - val_accuracy: 0.4724\n",
            "Epoch 4/50\n",
            "897/897 [==============================] - 71s 79ms/step - loss: 1.4632 - accuracy: 0.4352 - val_loss: 1.3128 - val_accuracy: 0.4980\n",
            "Epoch 5/50\n",
            "897/897 [==============================] - 71s 79ms/step - loss: 1.4036 - accuracy: 0.4611 - val_loss: 1.2681 - val_accuracy: 0.5183\n",
            "Epoch 6/50\n",
            "897/897 [==============================] - 72s 80ms/step - loss: 1.3534 - accuracy: 0.4799 - val_loss: 1.2306 - val_accuracy: 0.5345\n",
            "Epoch 7/50\n",
            "897/897 [==============================] - 71s 80ms/step - loss: 1.3230 - accuracy: 0.4961 - val_loss: 1.2522 - val_accuracy: 0.5174\n",
            "Epoch 8/50\n",
            "897/897 [==============================] - 81s 91ms/step - loss: 1.2945 - accuracy: 0.5065 - val_loss: 1.1886 - val_accuracy: 0.5515\n",
            "Epoch 9/50\n",
            "897/897 [==============================] - 71s 80ms/step - loss: 1.2788 - accuracy: 0.5116 - val_loss: 1.1880 - val_accuracy: 0.5504\n",
            "Epoch 10/50\n",
            "897/897 [==============================] - 71s 79ms/step - loss: 1.2617 - accuracy: 0.5179 - val_loss: 1.1440 - val_accuracy: 0.5664\n",
            "Epoch 11/50\n",
            "897/897 [==============================] - 72s 80ms/step - loss: 1.2507 - accuracy: 0.5233 - val_loss: 1.1622 - val_accuracy: 0.5532\n",
            "Epoch 12/50\n",
            "897/897 [==============================] - 81s 90ms/step - loss: 1.2343 - accuracy: 0.5290 - val_loss: 1.1340 - val_accuracy: 0.5671\n",
            "Epoch 13/50\n",
            "897/897 [==============================] - 71s 79ms/step - loss: 1.2277 - accuracy: 0.5341 - val_loss: 1.1467 - val_accuracy: 0.5672\n",
            "Epoch 14/50\n",
            "897/897 [==============================] - 72s 80ms/step - loss: 1.2218 - accuracy: 0.5391 - val_loss: 1.1275 - val_accuracy: 0.5759\n",
            "Epoch 15/50\n",
            "897/897 [==============================] - 71s 79ms/step - loss: 1.2004 - accuracy: 0.5413 - val_loss: 1.1136 - val_accuracy: 0.5758\n",
            "Epoch 16/50\n",
            "897/897 [==============================] - 70s 78ms/step - loss: 1.2003 - accuracy: 0.5406 - val_loss: 1.1270 - val_accuracy: 0.5725\n",
            "Epoch 17/50\n",
            "897/897 [==============================] - 72s 80ms/step - loss: 1.1896 - accuracy: 0.5477 - val_loss: 1.1143 - val_accuracy: 0.5728\n",
            "Epoch 18/50\n",
            "897/897 [==============================] - 71s 79ms/step - loss: 1.1833 - accuracy: 0.5469 - val_loss: 1.0977 - val_accuracy: 0.5784\n",
            "Epoch 19/50\n",
            "773/897 [========================>.....] - ETA: 8s - loss: 1.1832 - accuracy: 0.5495"
          ]
        }
      ],
      "source": [
        "model = Sequential()\n",
        "\n",
        "model.add(Conv2D(32, kernel_size=(3, 3), activation='relu', input_shape=(48,48,1)))\n",
        "\n",
        "model.add(Conv2D(64, kernel_size=(3, 3), activation='relu'))\n",
        "model.add(MaxPooling2D(pool_size=(2, 2)))\n",
        "model.add(Dropout(0.1))\n",
        "\n",
        "model.add(Conv2D(128, kernel_size=(3, 3), activation='relu'))\n",
        "model.add(MaxPooling2D(pool_size=(2, 2)))\n",
        "model.add(Dropout(0.1))\n",
        "\n",
        "model.add(Conv2D(256, kernel_size=(3, 3), activation='relu'))\n",
        "model.add(MaxPooling2D(pool_size=(2, 2)))\n",
        "model.add(Dropout(0.1))\n",
        "\n",
        "model.add(Flatten())\n",
        "model.add(Dense(512, activation='relu'))\n",
        "model.add(Dropout(0.2))\n",
        "\n",
        "model.add(Dense(7, activation='softmax'))\n",
        "\n",
        "model.compile(optimizer = 'adam', loss='categorical_crossentropy', metrics=['accuracy'])\n",
        "print(model.summary())\n",
        "\n",
        "train_path = \"./drive/MyDrive/Machine Learning/n3/dataset/train\"\n",
        "test_path =\"./drive/MyDrive/Machine Learning/n3/dataset/test\"\n",
        "\n",
        "num_train_imgs = 0\n",
        "for root, dirs, files in os.walk(train_path):\n",
        "    num_train_imgs += len(files)\n",
        "\n",
        "num_test_imgs = 0\n",
        "for root, dirs, files in os.walk(test_path):\n",
        "    num_test_imgs += len(files)\n",
        "\n",
        "epochs=50\n",
        "\n",
        "history = model.fit(train_generator,\n",
        "                steps_per_epoch=num_train_imgs//batch_size,\n",
        "                epochs=epochs,\n",
        "                validation_data=validation_generator,\n",
        "                validation_steps=num_test_imgs//batch_size)\n",
        "\n",
        "model.save('./drive/MyDrive/Machine Learning/n3/emotion_detection_model_100epochs.h5')\n"
      ]
    },
    {
      "cell_type": "markdown",
      "metadata": {
        "id": "ZPWMDM706gQ-"
      },
      "source": [
        "Etapa 05 - Analisando acurácia e função de custo"
      ]
    },
    {
      "cell_type": "code",
      "execution_count": null,
      "metadata": {
        "id": "KrTEUtzCvgCb"
      },
      "outputs": [],
      "source": [
        "#Exibindo a acurácia e o custo do modelo após cada época\n",
        "loss = history.history['loss']\n",
        "val_loss = history.history['val_loss']\n",
        "epochs = range(1, len(loss) + 1)\n",
        "plt.plot(epochs, loss, 'y', label='Training loss')\n",
        "plt.plot(epochs, val_loss, 'r', label='Validation loss')\n",
        "plt.title('Training and validation loss')\n",
        "plt.xlabel('Epochs')\n",
        "plt.ylabel('Loss')\n",
        "plt.legend()\n",
        "plt.show()\n",
        "\n",
        "acc = history.history['accuracy']\n",
        "val_acc = history.history['val_accuracy']\n",
        "\n",
        "plt.plot(epochs, acc, 'y', label='Training acc')\n",
        "plt.plot(epochs, val_acc, 'r', label='Validation acc')\n",
        "plt.title('Training and validation accuracy')\n",
        "plt.xlabel('Epochs')\n",
        "plt.ylabel('Accuracy')\n",
        "plt.legend()\n",
        "plt.show()"
      ]
    },
    {
      "cell_type": "markdown",
      "metadata": {
        "id": "eqZvHtbJ6lvN"
      },
      "source": [
        "Etapa 06 - Testando o modelo"
      ]
    },
    {
      "cell_type": "code",
      "execution_count": null,
      "metadata": {
        "id": "EQ3R9Atv6On4"
      },
      "outputs": [],
      "source": [
        "from keras.models import load_model\n",
        "\n",
        "#Testando modelo\n",
        "my_model = load_model('./drive/MyDrive/Machine Learning/n3/emotion_detection_model_100epochs.h5', compile=False)\n",
        "\n",
        "test_img, test_lbl = validation_generator.__next__()\n",
        "predictions=my_model.predict(test_img)\n",
        "\n",
        "predictions = np.argmax(predictions, axis=1)\n",
        "test_labels = np.argmax(test_lbl, axis=1)\n",
        "\n",
        "from sklearn import metrics\n",
        "print (\"Accuracy = \", metrics.accuracy_score(test_labels, predictions))\n",
        "\n",
        "#Confusion Matrix - verify accuracy of each class\n",
        "from sklearn.metrics import confusion_matrix\n",
        "cm = confusion_matrix(test_labels, predictions)\n",
        "print(cm)\n",
        "\n",
        "\n",
        "import seaborn as sns\n",
        "\n",
        "sns.heatmap(cm, annot=True)\n",
        "class_labels=['Angry','Disgust', 'Fear', 'Happy','Neutral','Sad','Surprise']\n",
        "\n",
        "#Check results on a few select images\n",
        "n=random.randint(0, test_img.shape[0] - 1)\n",
        "image = test_img[n]\n",
        "orig_labl = class_labels[test_labels[n]]\n",
        "pred_labl = class_labels[predictions[n]]\n",
        "plt.imshow(image[:,:,0], cmap='gray')\n",
        "plt.title(\"Original label is:\"+orig_labl+\" Predicted is: \"+ pred_labl)\n",
        "plt.show()"
      ]
    }
  ],
  "metadata": {
    "accelerator": "GPU",
    "colab": {
      "gpuType": "T4",
      "provenance": []
    },
    "kernelspec": {
      "display_name": "Python 3",
      "name": "python3"
    },
    "language_info": {
      "name": "python"
    }
  },
  "nbformat": 4,
  "nbformat_minor": 0
}
